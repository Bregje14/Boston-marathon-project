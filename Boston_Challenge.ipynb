{
 "cells": [
  {
   "cell_type": "code",
   "execution_count": 6,
   "metadata": {},
   "outputs": [],
   "source": [
    "# import necessary libraries\n",
    "import numpy as np\n",
    "import pandas as pd\n",
    "import scipy.stats as stats\n",
    "%matplotlib inline\n",
    "import matplotlib.pyplot as plt\n",
    "from matplotlib.ticker import StrMethodFormatter\n",
    "from pandas_profiling import ProfileReport\n",
    "pd.options.display.max_columns = None"
   ]
  },
  {
   "cell_type": "code",
   "execution_count": 7,
   "metadata": {},
   "outputs": [],
   "source": [
    "# read cleaned Boston data\n",
    "dataset = ['Boston_marathon_result_2015_cl.xlsx', 'Boston_marathon_result_2016_cl.xlsx', 'Boston_marathon_result_2017_cl.xlsx']\n",
    "dfs = []\n",
    "for i in range(0, len(dataset)):\n",
    "    df = pd.read_excel(dataset[i], index_col=None, header=0)\n",
    "    df['Year'] = int(''.join(filter(str.isdigit, dataset[i])))\n",
    "    dfs.append(df)\n",
    "dataframe = pd.concat(dfs, axis=0, sort=False, ignore_index=True)\n",
    "dataframe = dataframe.rename(columns={'Gender': 'GRank', 'M/F': 'Gender'})\n",
    "del dataframe['Unnamed: 2']"
   ]
  },
  {
   "cell_type": "code",
   "execution_count": 8,
   "metadata": {
    "scrolled": true
   },
   "outputs": [],
   "source": [
    "# # Summarize dataset\n",
    "# dataframe.head()\n",
    "# dataframe.describe()\n",
    "# # create profile\n",
    "# profile = ProfileReport(dataframe)\n",
    "# # save the report\n",
    "# profile.to_file('boston_profile.html')"
   ]
  },
  {
   "cell_type": "code",
   "execution_count": 9,
   "metadata": {},
   "outputs": [],
   "source": [
    "# convert string timeseries into floats (minutes)\n",
    "dataframe['5K'] = pd.to_timedelta(pd.Series(dataframe['5K'].astype(str))) / pd.offsets.Minute(1)\n",
    "dataframe['10K'] = pd.to_timedelta(pd.Series(dataframe['10K'].astype(str))) / pd.offsets.Minute(1)\n",
    "dataframe['15K'] = pd.to_timedelta(pd.Series(dataframe['15K'].astype(str))) / pd.offsets.Minute(1)\n",
    "dataframe['20K'] = pd.to_timedelta(pd.Series(dataframe['20K'].astype(str))) / pd.offsets.Minute(1)\n",
    "dataframe['Half'] = pd.to_timedelta(pd.Series(dataframe['Half'].astype(str))) / pd.offsets.Minute(1)\n",
    "dataframe['25K'] = pd.to_timedelta(pd.Series(dataframe['25K'].astype(str))) / pd.offsets.Minute(1)\n",
    "dataframe['30K'] = pd.to_timedelta(pd.Series(dataframe['30K'].astype(str))) / pd.offsets.Minute(1)\n",
    "dataframe['35K'] = pd.to_timedelta(pd.Series(dataframe['35K'].astype(str))) / pd.offsets.Minute(1)\n",
    "dataframe['40K'] = pd.to_timedelta(pd.Series(dataframe['40K'].astype(str))) / pd.offsets.Minute(1)\n",
    "dataframe['Pace'] = pd.to_timedelta(pd.Series(dataframe['Pace'].astype(str))) / pd.offsets.Minute(1)\n",
    "dataframe['Official Time'] = pd.to_timedelta(pd.Series(dataframe['Official Time'].astype(str))) / pd.offsets.Minute(1)"
   ]
  },
  {
   "cell_type": "code",
   "execution_count": 10,
   "metadata": {},
   "outputs": [],
   "source": [
    "# statistical (t-test) function\n",
    "def statcheck(dataframe1, dataframe2):\n",
    "    t, p = stats.ttest_ind(dataframe1,dataframe2)\n",
    "    alpha = 0.05\n",
    "    if p <= alpha:\n",
    "        print('Variables are dependent (reject H0)')\n",
    "    else:\n",
    "        print('Variables Half2 and Gender are independent (fail to reject H0)')"
   ]
  },
  {
   "cell_type": "code",
   "execution_count": 11,
   "metadata": {},
   "outputs": [],
   "source": [
    "# estimate function\n",
    "def estimate(title, dataframe):\n",
    "    print(\"{}: mean = {:6.4f}; median = {:6.4f}, std = {:6.4f}\".format(title, dataframe.mean(), dataframe.median(), dataframe.std(ddof=1)))"
   ]
  },
  {
   "cell_type": "code",
   "execution_count": 12,
   "metadata": {},
   "outputs": [],
   "source": [
    "# plotting function\n",
    "def visualize(dataframe1, dataframe2, title, label1, label2, xlabel, ylabel, box):\n",
    "    fig, ax = plt.subplots(figsize=(15, 5))\n",
    "    ax.hist(dataframe1, bins=300, alpha=0.5, color='yellow', label=label1)\n",
    "    ax.hist(dataframe2, bins=300, alpha=0.2, color='green', label=label2)\n",
    "    # Set axis labels\n",
    "    ax.set_xlabel(xlabel, labelpad=30, weight='bold', size=12)\n",
    "    ax.set_ylabel(ylabel, labelpad=50, weight='bold', size=12)\n",
    "    # Format y-axis label\n",
    "    ax.yaxis.set_major_formatter(StrMethodFormatter('{x:,g}'))\n",
    "    plt.tick_params(axis='x', rotation=0, labelsize=12)\n",
    "    plt.tick_params(axis='y', rotation=0, labelsize=12)\n",
    "    plt.axis(box)\n",
    "    plt.legend(prop={'size': 16})\n",
    "    plt.suptitle(title, fontsize=16)\n",
    "    plt.show()"
   ]
  },
  {
   "cell_type": "code",
   "execution_count": null,
   "metadata": {},
   "outputs": [],
   "source": [
    "# Assumption 1a: female runners have a better 2nd half than male runners\n",
    "dataframe['Half2'] = dataframe['Official Time'] - dataframe['Half']\n",
    "# In our further assumptions we are interested in those who manage to reach the finish\n",
    "dataframe = dataframe[dataframe.Half2 > 0]\n",
    "dataframe['Halfdiff'] = dataframe['Half2'] - dataframe['Half']\n",
    "for year in dataframe.Year.unique():\n",
    "    print('Year {0:d}: '.format(year))\n",
    "    halfdiff_male = dataframe['Halfdiff'][dataframe.Year == year][dataframe.Gender == 'M']\n",
    "    halfdiff_female = dataframe['Halfdiff'][dataframe.Year == year][dataframe.Gender == 'F']\n",
    "    statcheck(halfdiff_male, halfdiff_female)\n",
    "    # estimate means\n",
    "    estimate('Half difference males', halfdiff_male)\n",
    "    estimate('Half difference females', halfdiff_female)\n",
    "    # plot histograms\n",
    "    visualize(halfdiff_male, halfdiff_female, \"First / second half marathon time difference by gender in year {0:d}\".format(year), 'Males', 'Females', 'Half difference (Minutes)', 'Count', [-25, 100, 0, 1000])"
   ]
  },
  {
   "cell_type": "code",
   "execution_count": null,
   "metadata": {},
   "outputs": [],
   "source": [
    "# Assumption 1b: female runners have a better last 10k than male runners\n",
    "dataframe['last10K'] = dataframe['Official Time'] - dataframe['30K']\n",
    "dataframe['10Kdiff'] = dataframe['last10K'] - dataframe['10K']\n",
    "for year in dataframe.Year.unique():\n",
    "    print('Year {0:d}: '.format(year))\n",
    "    fl10Kdiff_male = dataframe['10Kdiff'][dataframe.Year == year][dataframe.Gender == 'M']\n",
    "    fl10Kdiff_female = dataframe['10Kdiff'][dataframe.Year == year][dataframe.Gender == 'F']\n",
    "    statcheck(fl10Kdiff_male, fl10Kdiff_female)\n",
    "    # estimate means\n",
    "    estimate('First-last 10K difference males', fl10Kdiff_male)\n",
    "    estimate('First-last 10K difference females', fl10Kdiff_female)\n",
    "    # plot histograms\n",
    "    visualize(fl10Kdiff_male, fl10Kdiff_female, \"First-last 10 kilometers time difference by gender in year {0:d}\".format(year), 'Males', 'Females', '10K difference (Minutes)', 'Count', [-25, 100, 0, 1000])"
   ]
  },
  {
   "cell_type": "code",
   "execution_count": null,
   "metadata": {},
   "outputs": [],
   "source": [
    "# Assumption 2: male runners have a faster 1st half than female runners\n",
    "for year in dataframe.Year.unique():\n",
    "    print('Year {0:d}: '.format(year))\n",
    "    dataframe['Halfratio'] = dataframe['Half'] / dataframe['Half2']\n",
    "    halfratio_male = dataframe['Halfratio'][dataframe.Year == year][dataframe.Gender == 'M']\n",
    "    halfratio_female = dataframe['Halfratio'][dataframe.Year == year][dataframe.Gender == 'F']\n",
    "    statcheck(halfratio_male,halfratio_female)\n",
    "    # estimate means\n",
    "    estimate('Half-ratio males', halfratio_male)\n",
    "    estimate('Half-ratio females', halfratio_female)\n",
    "    # plot histograms\n",
    "    visualize(halfratio_male, halfratio_female, \"Distribution of the 1st / 2nd half-ratio by gender in year {0:d}\".format(year), 'Males', 'Females', 'Half-ratio', 'Count', [0, 5, 0, 400])"
   ]
  },
  {
   "cell_type": "code",
   "execution_count": null,
   "metadata": {},
   "outputs": [],
   "source": [
    "# Assumption 5: local runners (from Boston or close) have a more stable run than non locals\n",
    "Neighbours = [\"Boston\", \"Winthrop\", \"Revere\", \"Chelsea\", \"Everett\", \"Somerville\", \"Cambridge\", \"Watertown\", \"Newton\", \"Brookline\", \"Needham\", \"Dedham\", \"Canton\", \"Milton\", \"Quincy\"]\n",
    "for year in dataframe.Year.unique():\n",
    "    print('Year {0:d}: '.format(year))\n",
    "    local = dataframe['Pace'][dataframe.Year == year][dataframe.City.isin(Neighbours)]\n",
    "    nolocal = dataframe['Pace'][dataframe.Year == year][~dataframe.City.isin(Neighbours)]\n",
    "    statcheck(local, nolocal)\n",
    "    # estimate means\n",
    "    estimate('Pace Locals', local)\n",
    "    estimate('Pace non-Locals', nolocal)\n",
    "    print(\"Numbers: locals = {}; non-locals = {}\".format(len(local), len(nolocal)))\n",
    "    # plot histograms\n",
    "    visualize(local, nolocal, \"Distribution of the marathon pace by locality in year {0:d}\".format(year), 'Locals', 'Non-locals', 'Pace (Minutes)', 'Count', [0, 25, 0, 500])"
   ]
  },
  {
   "cell_type": "code",
   "execution_count": null,
   "metadata": {},
   "outputs": [],
   "source": [
    "# Assumption 6: runners who return do better (more stable and maybe faster, lower suffer score)\n",
    "Returns = dataframe[dataframe.Name.duplicated()]['Name'].tolist()\n",
    "for year in dataframe.Year.unique():\n",
    "    print('Year {0:d}: '.format(year))\n",
    "    ret = dataframe['Pace'][dataframe.Year == year][dataframe.Name.isin(Returns)]\n",
    "    nonret = dataframe['Pace'][dataframe.Year == year][~dataframe.Name.isin(Returns)]\n",
    "    statcheck(ret, nonret)\n",
    "    # estimate means\n",
    "    estimate('Pace Return', ret)\n",
    "    estimate('Pace Non-Return', nonret)\n",
    "    print(\"Numbers: return = {}; non-return = {}\".format(len(local), len(nolocal)))\n",
    "    # plot histograms\n",
    "    visualize(ret, nonret, \"Distribution of the marathon pace by return in year {0:d}\".format(year), 'Return', 'Non-Return', 'Pace (Minutes)', 'Count', [0, 25, 0, 500])"
   ]
  },
  {
   "cell_type": "code",
   "execution_count": null,
   "metadata": {},
   "outputs": [],
   "source": [
    "# read Weather data\n",
    "dataset = 'weather_data_boston.csv'\n",
    "weather = pd.read_csv(dataset, header=0)\n",
    "weather.head()"
   ]
  },
  {
   "cell_type": "code",
   "execution_count": null,
   "metadata": {},
   "outputs": [],
   "source": [
    "# Assumption 3: higher levels of humidity / temperature have a negative impact in A1 and A2\n",
    "# take a sample of returning runners and test average humidity levels on them\n",
    "Events = ['2015-04-20T10:00:00', '2016-04-18T10:00:00', '2017-04-17T10:00:00']\n",
    "returns = dataframe[dataframe.Name.isin(Returns)]\n",
    "returns_A1 = returns['5K']\n",
    "returns_A2 = returns['10K']\n",
    "# for event in Events:\n",
    "#     dt = weather.iloc[(df['DATE']-event).abs().argsort()[:2]] # TODO: convert to floats and get minmax mean"
   ]
  }
 ],
 "metadata": {
  "kernelspec": {
   "display_name": "Python 3",
   "language": "python",
   "name": "python3"
  },
  "language_info": {
   "codemirror_mode": {
    "name": "ipython",
    "version": 3
   },
   "file_extension": ".py",
   "mimetype": "text/x-python",
   "name": "python",
   "nbconvert_exporter": "python",
   "pygments_lexer": "ipython3",
   "version": "3.7.6"
  }
 },
 "nbformat": 4,
 "nbformat_minor": 2
}
